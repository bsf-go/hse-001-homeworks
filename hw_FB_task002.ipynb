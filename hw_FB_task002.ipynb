{
 "cells": [
  {
   "cell_type": "code",
   "execution_count": 1,
   "metadata": {},
   "outputs": [
    {
     "ename": "SyntaxError",
     "evalue": "invalid syntax (<ipython-input-1-2f7272da04a9>, line 1)",
     "output_type": "error",
     "traceback": [
      "\u001b[1;36m  File \u001b[1;32m\"<ipython-input-1-2f7272da04a9>\"\u001b[1;36m, line \u001b[1;32m1\u001b[0m\n\u001b[1;33m    Задание 2.\u001b[0m\n\u001b[1;37m             ^\u001b[0m\n\u001b[1;31mSyntaxError\u001b[0m\u001b[1;31m:\u001b[0m invalid syntax\n"
     ]
    }
   ],
   "source": [
    "Задание 2. \n",
    "\n",
    "Входные данные:\n",
    "* Новости о компании \"Газпром\", начиная с 2010 года\n",
    "* Стоимость акций компании \"Газпром\" на ММВБ, начиная с 2010 года\n",
    "    * цена открытия (Open)\n",
    "    * цена закрытия (ClosingPrice)\n",
    "    * максимальная цена за день (DailyHigh)\n",
    "    * минимальная цена за день (DailyLow) \n",
    "    * объем бумаг (VolumePcs)\n",
    "    \n",
    "    \n",
    "Проведите предобработку текстов: если считаете нужным, выполните токенизацию, приведение к нижнему регистру, лемматизацию и/или стемминг. Ответьте на следующие вопросы:\n",
    "* Постройте частотный словарь по текстам, изобразите законы Ципфа и Хипса. \n",
    "* Есть ли корреляция между средней длинной текста за день и ценой закрытия?\n",
    "* Есть ли корреляция между количеством упоминаний Алексея Миллера и ценой закрытия? Учтите разные варианты написания имени.\n",
    "* Упоминаний какого газопровода в статьях больше: \n",
    "    * \"северный поток\"\n",
    "    * \"турецкий поток\"?\n",
    "* О каких санкциях пишут в статьях?"
   ]
  },
  {
   "cell_type": "code",
   "execution_count": 1,
   "metadata": {},
   "outputs": [
    {
     "name": "stdout",
     "output_type": "stream",
     "text": [
      "f:\\#hse2018\\nlp-course-hse-summer-intensive\\hw1\n",
      "f:\\#hse2018\\nlp-course-hse-summer-intensive\\hw1\\gazprom.csv\n",
      "True\n"
     ]
    }
   ],
   "source": [
    "#system libs\n",
    "import re, regex\n",
    "import os, sys\n",
    "import time\n",
    "print(os.getcwd())\n",
    "print(os.path.abspath(r'../hw1/gazprom.csv'))\n",
    "print(os.path.exists(r'../hw1/gazprom.csv'))\n"
   ]
  },
  {
   "cell_type": "markdown",
   "metadata": {},
   "source": [
    "#первичная подготовка данных:\n",
    "текст приемлимого, на мой взгляд качества, не требует глубокой переработки перед использованием.\n",
    "за исключением: \n",
    "а) строки без даты присоединены к предыдущим строкам;\n",
    "б) разделитель \",\", как неоднозначный в текстах, заменен на '\\t'.\n",
    "в) убраны \"\" в начале и конце текста.\n"
   ]
  },
  {
   "cell_type": "markdown",
   "metadata": {},
   "source": [
    "#1. леммизация с использованием \n",
    "c:\\Utils\\mystem.exe -ldcs --eng-gr gazprom.csv gazprom_lemm.csv:\n",
    "так же произведена разбивка на предложения\n",
    "из теката убраны лишние символы, разделитель предложений ([.?!]\\{\\\\s\\}) заменен на символ \\v."
   ]
  },
  {
   "cell_type": "code",
   "execution_count": 2,
   "metadata": {},
   "outputs": [],
   "source": [
    "import pandas as pd\n",
    "\n",
    "csv_path='./gazprom_lemm.csv'\n",
    "df = pd.read_csv(csv_path, names  = ['Date','Text'], sep='\\t', \\\n",
    "                 header=None, skiprows=0, \\\n",
    "                 parse_dates=['Date'], dayfirst=True  )\n",
    "#print(os.path.exists(csv_path))\n",
    "#print(df.head(5))\n",
    "\n",
    "# длина текста в строке\n",
    "def str_len(text):\n",
    "    try:\n",
    "        return len(text)\n",
    "    except:\n",
    "        return 0\n",
    "\n",
    "# в строке есть Миллер\n",
    "regexp1=re.compile(r\"\\bмиллер\\b\")\n",
    "def count_Miller(text, rx=regexp1):\n",
    "    try:\n",
    "        return len(rx.findall(text))\n",
    "    except:\n",
    "        return 0\n",
    "\n",
    "# в строке есть т.п.\n",
    "regexp2=re.compile(r\"\\bтурецкий поток\\b\")\n",
    "def count_tp(text, rx=regexp2):\n",
    "    try:\n",
    "        return len(rx.findall(text))\n",
    "    except:\n",
    "        return 0\n",
    "\n",
    "# в строке есть с.п.\n",
    "regexp3=re.compile(r\"\\bсеверный поток\\b\")\n",
    "def count_sp(text, rx=regexp3):\n",
    "    try:\n",
    "        return len(rx.findall(text))\n",
    "    except:\n",
    "        return 0\n",
    "\n",
    "df['sent_len'] = df.Text.apply(str_len) # колонка длина сообщения\n",
    "df['count_Mll'] = df.Text.apply(count_Miller) # \"колонка сколька раз упомянут Миллер\"\n",
    "\n",
    "#print(df.head(5))\n"
   ]
  },
  {
   "cell_type": "code",
   "execution_count": 3,
   "metadata": {},
   "outputs": [],
   "source": [
    "#days=list(df['Date'][:])\n",
    "#df.text.dropna(inplace = True)\n",
    "#list(df.Text)[:6][:20]\n",
    "\n"
   ]
  },
  {
   "cell_type": "markdown",
   "metadata": {},
   "source": [
    "## * Упоминаний какого газопровода в статьях больше: \n",
    "    * \"северный поток\"\n",
    "    * \"турецкий поток\"?"
   ]
  },
  {
   "cell_type": "code",
   "execution_count": 4,
   "metadata": {},
   "outputs": [
    {
     "name": "stdout",
     "output_type": "stream",
     "text": [
      "TS := 39, NS := 14, \"Туреций поток\" упоминается чаще, чем  \"Северный поток\".\n"
     ]
    }
   ],
   "source": [
    "t_p = 0\n",
    "s_p = 0\n",
    "\n",
    "for t in df.Text[:] :\n",
    "    s_p += count_sp(t)\n",
    "    t_p += count_tp(t)\n",
    "\n",
    "print('TS := {0}, NS := {1}, \"Туреций поток\" упоминается {2} \"Северный поток\".'.format(t_p, s_p, \\\n",
    "                            (\"чаще, чем \" if (t_p > s_p) else \"реже, чем\" if (t_p > s_p) else \"так же как\") ) )\n"
   ]
  },
  {
   "cell_type": "markdown",
   "metadata": {},
   "source": [
    "* Постройте частотный словарь по текстам, изобразите законы Ципфа и Хипса. \n"
   ]
  },
  {
   "cell_type": "markdown",
   "metadata": {},
   "source": [
    "## частотный словарь"
   ]
  },
  {
   "cell_type": "code",
   "execution_count": 5,
   "metadata": {},
   "outputs": [
    {
     "name": "stdout",
     "output_type": "stream",
     "text": [
      "('слово', частота), отн-ние к 1-му\n",
      "                   ('в', 5480) \tреже в 1.0000 раз.\n",
      "                  ('на', 3121) \tреже в 1.7558 раз.\n",
      "             ('газпром', 2973) \tреже в 1.8433 раз.\n",
      "                   ('и', 2435) \tреже в 2.2505 раз.\n",
      "                  ('по', 1621) \tреже в 3.3806 раз.\n",
      "                   ('с', 1448) \tреже в 3.7845 раз.\n",
      "            ('компания', 1389) \tреже в 3.9453 раз.\n",
      "                 ('газ', 1341) \tреже в 4.0865 раз.\n",
      "                  ('не', 1033) \tреже в 5.3049 раз.\n",
      "                 ('млрд', 906) \tреже в 6.0486 раз.\n",
      "                  ('год', 870) \tреже в 6.2989 раз.\n",
      "                  ('что', 852) \tреже в 6.4319 раз.\n",
      "Ok:  Sun Aug 26 05:58:11 2018\n"
     ]
    }
   ],
   "source": [
    "from collections import Counter\n",
    "n_types = []\n",
    "n_tokens = []\n",
    "tokens = []\n",
    "cnt = Counter()\n",
    "for index, row in df.iterrows():\n",
    "    # t = str(row['Text'])\n",
    "    tokens = re.findall(r'\\w+', str(row['Text']))\n",
    "    cnt.update(tokens) \n",
    "    n_types.append(len(cnt))\n",
    "    n_tokens.append(sum(cnt.values()))\n",
    "c1 = cnt.most_common(1)[0][1]\n",
    "print(\"('слово', частота), отн-ние к 1-му\")\n",
    "for i in cnt.most_common(12):\n",
    "    print('%(word)#30r \\tреже в %(number)3.4f раз.' % {'word': i,  'number' :(c1 / i[1])} )\n",
    "print('Ok: ',time.asctime())\n"
   ]
  },
  {
   "cell_type": "markdown",
   "metadata": {},
   "source": [
    "## Закон Ципфа"
   ]
  },
  {
   "cell_type": "code",
   "execution_count": 6,
   "metadata": {},
   "outputs": [
    {
     "name": "stdout",
     "output_type": "stream",
     "text": [
      "Wall time: 0 ns\n",
      "Всего уникальных слов в тесте:= 8076\n"
     ]
    },
    {
     "data": {
      "image/png": "[encoded data removed]",
      "text/plain": [
       "<Figure size 432x288 with 1 Axes>"
      ]
     },
     "metadata": {},
     "output_type": "display_data"
    },
    {
     "data": {
      "image/png": "[encoded data removed]",
      "text/plain": [
       "<Figure size 432x288 with 1 Axes>"
      ]
     },
     "metadata": {},
     "output_type": "display_data"
    },
    {
     "name": "stdout",
     "output_type": "stream",
     "text": [
      "Ok:  Sun Aug 26 05:58:16 2018\n"
     ]
    }
   ],
   "source": [
    "%matplotlib inline\n",
    "%time\n",
    "import pandas as pd\n",
    "import matplotlib.pyplot as plt\n",
    "freqs = list(cnt.values())\n",
    "\n",
    "freqs = sorted(freqs, reverse = True)\n",
    "\n",
    "fig, ax = plt.subplots()\n",
    "m = len(freqs)\n",
    "print(\"Всего уникальных слов в тесте:= {0}\".format(m))\n",
    "n = 200 if m > 200 else m\n",
    "ax.plot(freqs[:n], range(n)) # ?? это график частота - ранг, а должен быть ранг / частота ?\n",
    "# Задаем заголовок диаграммы\n",
    "#plt.title(u'Зависимость: размер словаря (x) - частота слов (y) ')\n",
    "plt.title(u'Зависимость для {0} самых частых слов:\\nчастота слова (x) - ранг слова (по частоте) (y) '.\\\n",
    "         format(n))\n",
    "# Задаем подписи к осям X и Y\n",
    "plt.xlabel(u'Частота слова в тексте')\n",
    "plt.ylabel(u'Ранг (1 : 200) ') #  место в упорядоченном словаре\n",
    "# Включаем сетку\n",
    "plt.grid()\n",
    "# начало 1\n",
    "plt.xlim(1, freqs[0]*1.05)\n",
    "# начало 0\n",
    "plt.ylim(0, n*1.05)\n",
    "#\n",
    "plt.show()\n",
    "\n",
    "fig, ax = plt.subplots()\n",
    "ax.plot(range(n), freqs[:n]) # ?? это график  ранг / частота ?\n",
    "# Задаем заголовок диаграммы\n",
    "plt.title(u'Зависимость:\\nчастота слов (x) - размер словаря (y)')\n",
    "# Задаем подписи к осям X и Y\n",
    "plt.xlabel(u'Ранг (1 : 200) ') #  место в упорядоченном словаре\n",
    "plt.ylabel(u'Частота слова в тексте')\n",
    "# Включаем сетку\n",
    "plt.grid()\n",
    "#\n",
    "plt.show()\n",
    "\n",
    "print('Ok: ',time.asctime())\n"
   ]
  },
  {
   "cell_type": "markdown",
   "metadata": {},
   "source": [
    "## Закон Хипса"
   ]
  },
  {
   "cell_type": "code",
   "execution_count": 7,
   "metadata": {},
   "outputs": [
    {
     "data": {
      "image/png": "[encoded data removed]",
      "text/plain": [
       "<Figure size 432x288 with 1 Axes>"
      ]
     },
     "metadata": {},
     "output_type": "display_data"
    }
   ],
   "source": [
    "t=\"Размер текста (слов/срок):= {0} / {2}.\\nРазмер словаря := {1}\".format( \\\n",
    "                        n_tokens[-1], n_types[-1], len(n_types))\n",
    "\n",
    "fig, ax = plt.subplots()\n",
    "# Задаем заголовок диаграммы\n",
    "plt.title(t)\n",
    "ax.plot(n_tokens, n_types) # график: x - размер текста,  y - число уникальных слов\n",
    "# Задаем подписи к осям X и Y\n",
    "plt.xlabel(u'Слов в тексте: {} -> {}'.format(n_tokens[0],n_tokens[-1])) # размер обработанного текста\n",
    "plt.ylabel(u'Слов в словаре: {} -> {}'.format(n_types[0],n_types[-1])) # размер накопленного словаря\n",
    "# Включаем сетку\n",
    "plt.grid()\n",
    "#\n",
    "plt.show()"
   ]
  },
  {
   "cell_type": "code",
   "execution_count": 8,
   "metadata": {},
   "outputs": [
    {
     "name": "stdout",
     "output_type": "stream",
     "text": [
      "Ok:  f:\\#hse2018\\nlp-course-hse-summer-intensive\\hw1\\gazprom_msgs2.bin\n",
      "f:\\#hse2018\\nlp-course-hse-summer-intensive\\hw1\\gazprom_msgs2.csv Ok:  Sun Aug 26 05:58:34 2018\n"
     ]
    }
   ],
   "source": [
    "# выгрузить данные для статистического анализа:\n",
    "import pickle\n",
    "csv_path='./gazprom_msgs2.csv'\n",
    "bin_path='./gazprom_msgs2.bin'\n",
    "\n",
    "with open(bin_path,'wb') as f:\n",
    "    if (pickle.dump(obj=df, file=f) == None): \n",
    "        print('Ok: ',os.path.abspath(bin_path))\n",
    "    else:\n",
    "        print('Err:',os.path.abspath(bin_path))\n",
    "\n",
    "if (df.to_csv(csv_path, sep='\\t', \\\n",
    "        decimal='.', date_format=r'%Y-%m-%d') == None):\n",
    "        print(os.path.abspath(csv_path),'Ok: ',time.asctime())\n",
    "\n",
    "\n",
    "\n",
    "#df = pd.to_csv(csv_path, sep='\\t', date_format='%Y-%m-%d'  )\n"
   ]
  },
  {
   "attachments": {},
   "cell_type": "markdown",
   "metadata": {},
   "source": [
    "## Есть ли корреляция между средней длинной текста за день и ценой закрытия?\n",
    "\n",
    "#### зависимость рассчитана на всем массиве записей, сообщений, когда сообщение выходило в день проведения торговли на бирже.\n",
    "1) коэффициент корреляции для пары: \"длина текста\" - \"разница в цене закрытия и открытия\":\n",
    "    -0.023489857\n",
    "\n",
    "2). коэффициент корреляции для пары: \"длина текста\" - \"цена закрытия\":\n",
    "    0.015200417\n",
    "\n",
    ":\n",
    "1) зависимость рассчитана на массиве записей, когда было упоминание А.Миллера в сообщениях.\n",
    "2) зависимость рассчитана на всем массиве записей, сообщений, когда сообщение выходило в день проведения торговли на бирже.\n",
    "\n",
    "рассчеты выполнены в Exceel 2003."
   ]
  },
  {
   "attachments": {},
   "cell_type": "markdown",
   "metadata": {},
   "source": [
    "## * Есть ли корреляция между количеством упоминаний Алексея Миллера и ценой закрытия? Учтите разные варианты написания имени.\n",
    "\n",
    "#### зависимость рассчитана на всем массиве записей, сообщений, когда сообщение выходило в день проведения торговли на бирже.\n",
    "##### рассчитана зависимость с приростом цены дня, а не с ценой закрытия:\n",
    "    1) 0.18660991\n",
    "    2) 0.012861578\n",
    "\n",
    "1) зависимость рассчитана на массиве записей, когда было упоминание А.Миллера в сообщениях.\n",
    "2) зависимость рассчитана на всем массиве записей, сообщений, когда сообщение выходило в день проведения торговли на бирже.\n",
    "\n",
    "##### зависимость \"цены закрытия\" от \"упоминание А.Миллера в сообщениях\", на всем массиве сообщений:\n",
    "    0.010635076\n",
    "\n",
    "рассчеты выполнены в Exceel 2003."
   ]
  }
 ],
 "metadata": {
  "kernelspec": {
   "display_name": "Python 3",
   "language": "python",
   "name": "python3"
  },
  "language_info": {
   "codemirror_mode": {
    "name": "ipython",
    "version": 3
   },
   "file_extension": ".py",
   "mimetype": "text/x-python",
   "name": "python",
   "nbconvert_exporter": "python",
   "pygments_lexer": "ipython3",
   "version": "3.6.6"
  }
 },
 "nbformat": 4,
 "nbformat_minor": 2
}
