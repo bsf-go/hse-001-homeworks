{
 "cells": [
  {
   "cell_type": "markdown",
   "metadata": {},
   "source": [
    "# Задание 1. Посчитайте количество женский имен в файле \"names.txt\"."
   ]
  },
  {
   "cell_type": "markdown",
   "metadata": {},
   "source": [
    "# предварительная обработка текста:\n",
    "выполнена в виду малого объема текста и неоднородности данных в текстовом редактореNotepad++ :\n",
    "1) удалить все символы, кроме букв русского языка, запятых и пробелов, удалить ё:\n",
    "    sub(r\"[^А-Яа-яё .,\\t\\r\\n]+\",\" \")\n",
    "    sub(r\"[ё]\",\"е\")\n",
    "2) все пробельные символы заменить на одиночный пробел:\n",
    "    sub(r\"[\\x01-\\x09 ]+\",\"\")\n",
    "    sub(r\"[ ]+^\",\"\")\n",
    "    sub(r\"^[ ]+\",\"\")\n",
    "3) удалить 1-е три строки\n",
    "4) удалит любой текст после 2-ой запятой или точки\n",
    "    sub(r\"[^А-Яа-яё .,\\t\\r\\n]+\",\" \")\n",
    "5) очистить начало и конец от пробелов\n",
    "6) удалить слова не с заглавной буквы\n",
    "6) удалить пустые строки\n",
    "7) отсортировать\n",
    "8) удалить дубликаты (?) \n",
    "9) сохранить файл "
   ]
  },
  {
   "cell_type": "code",
   "execution_count": 2,
   "metadata": {},
   "outputs": [
    {
     "name": "stdout",
     "output_type": "stream",
     "text": [
      "Ok:  Wed Aug 22 05:57:10 2018\n"
     ]
    }
   ],
   "source": [
    "from pymorphy2 import MorphAnalyzer\n",
    "#from pymystem3 import Mystem\n",
    "import os, sys, time\n",
    "print('Ok: ',time.asctime() )"
   ]
  },
  {
   "cell_type": "code",
   "execution_count": 3,
   "metadata": {},
   "outputs": [
    {
     "name": "stdout",
     "output_type": "stream",
     "text": [
      "True C:\\Users\\user-bsf\\Tests\\nlp-course-hse-summer-intensive\\hw1\\data\\names_R.txt\n",
      "Ok:  Wed Aug 22 05:57:12 2018\n",
      "Wall time: 1.19 s\n"
     ]
    }
   ],
   "source": [
    "%%time\n",
    "import pandas as pd\n",
    "#path = os.getcwd()\n",
    "#print(path)\n",
    "print(os.path.exists('data/names_R.txt'), os.path.abspath('data/names_R.txt'))\n",
    "\n",
    "df = pd.read_csv('data/names_R.txt',sep=',', header=0 ,encoding='utf-8',skip_blank_lines=True,names=['COL1']) # , usecols = ['text', 'source'])\n",
    "\n",
    "print('Ok: ',time.asctime() )"
   ]
  },
  {
   "cell_type": "code",
   "execution_count": 4,
   "metadata": {},
   "outputs": [
    {
     "name": "stdout",
     "output_type": "stream",
     "text": [
      "Ok:  Wed Aug 22 05:57:13 2018\n"
     ]
    }
   ],
   "source": [
    "#удалить стоп слова 1\n",
    "from nltk.corpus import stopwords\n",
    "#print(stopwords.words('russian'))\n",
    "mystopwords = stopwords.words('russian') + ['это', 'наш' , 'тыс', 'млн', 'млрд', 'также',  'т', 'д']\n",
    "\n",
    "def  remove_stopwords(text, mystopwords = mystopwords):\n",
    "    try:\n",
    "        return \" \".join([token for token in text.split() if not token in mystopwords])\n",
    "    except:\n",
    "        return \"\"\n",
    "\n",
    "#m = Mystem()\n",
    "#def lemmatize(text, mystem=m):\n",
    "#    try:\n",
    "#        return \"\".join(m.lemmatize(text)).strip()  \n",
    "#    except:\n",
    "#        return \" \"\n",
    "\n",
    "print('Ok: ',time.asctime() )"
   ]
  },
  {
   "cell_type": "code",
   "execution_count": 5,
   "metadata": {},
   "outputs": [
    {
     "name": "stdout",
     "output_type": "stream",
     "text": [
      "Итого, женских имен всего : 43.\n",
      "Ok:  Wed Aug 22 05:57:14 2018\n",
      "Wall time: 797 ms\n"
     ]
    }
   ],
   "source": [
    "%%time\n",
    "#удалить стоп слова 2\n",
    "df.COL1 = df.COL1.apply(remove_stopwords) \n",
    "#df.COL1 = df.COL1.apply(lemmatize)\n",
    "\n",
    "m = MorphAnalyzer()\n",
    "df.COL1=[m.parse(word)[0].normal_form for word in df.COL1]\n",
    "\n",
    "f_names = []\n",
    "\n",
    "for index, row in df.iterrows():\n",
    "    word1=row['COL1']\n",
    "    res=m.parse(word1)[0]\n",
    "    res_tag = str(res.tag).split(\",\")\n",
    "    if (res.score > 0.6) and (res_tag == ['NOUN', 'anim', 'femn', 'Name sing', 'nomn']) :\n",
    "        #print(f'{res.normal_form}\\t{res_tag}\\t{res.score}')\n",
    "        f_names.append(res.normal_form)\n",
    "    #if index>=60:\n",
    "        #print(index)\n",
    "        #break\n",
    "\n",
    "print(f'Итого, женских имен всего : {len(f_names)}.')\n",
    "#print(f_names)\n",
    "print('Ok: ',time.asctime() )"
   ]
  },
  {
   "cell_type": "code",
   "execution_count": 6,
   "metadata": {},
   "outputs": [
    {
     "name": "stdout",
     "output_type": "stream",
     "text": [
      "     , из них уникальных : 20.\n",
      "('марья', 15)\n",
      "('анна', 4)\n",
      "('наталья', 4)\n",
      "('дуняша', 2)\n",
      "('наташа', 2)\n",
      "('репнина', 2)\n",
      "('аграфена', 1)\n",
      "('амалия', 1)\n",
      "('аниска', 1)\n",
      "('анисья', 1)\n",
      "('елена', 1)\n",
      "('елизавета', 1)\n",
      "('жозефа', 1)\n",
      "('катерина', 1)\n",
      "('мария', 1)\n",
      "('матрена', 1)\n",
      "('настасья', 1)\n",
      "('ольга', 1)\n",
      "('пелагея', 1)\n",
      "('прасковья', 1)\n",
      "Wall time: 9.99 ms\n"
     ]
    }
   ],
   "source": [
    "%%time\n",
    "from collections import Counter\n",
    "n_types = []\n",
    "n_tokens = []\n",
    "tokens = []\n",
    "cnt = Counter()\n",
    "for f_name in f_names:\n",
    "    #print(f_name)\n",
    "    cnt[f_name] += 1\n",
    "#for i in cnt.most_common():\n",
    "#    print(i)\n",
    "f_names2 = list(cnt)\n",
    "#print(f_names2)\n",
    "print(f'     , из них уникальных : {len(f_names2)}.')\n",
    "for i in cnt.most_common():\n",
    "    print(i)\n"
   ]
  },
  {
   "cell_type": "markdown",
   "metadata": {},
   "source": [
    "# 'репнина' - скорее всего, неженское имя"
   ]
  },
  {
   "cell_type": "markdown",
   "metadata": {},
   "source": [
    "Итого: 19 уникальных женских имен, 43 имени упомянуто. Вероятно, что часть из них указана как \"имя\" в отношении родства, но это, наверное, но такой анализ, не являлся часть задачи."
   ]
  }
 ],
 "metadata": {
  "kernelspec": {
   "display_name": "Python 3",
   "language": "python",
   "name": "python3"
  },
  "language_info": {
   "codemirror_mode": {
    "name": "ipython",
    "version": 3
   },
   "file_extension": ".py",
   "mimetype": "text/x-python",
   "name": "python",
   "nbconvert_exporter": "python",
   "pygments_lexer": "ipython3",
   "version": "3.6.6"
  }
 },
 "nbformat": 4,
 "nbformat_minor": 2
}
